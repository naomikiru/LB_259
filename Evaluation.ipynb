{
 "cells": [
  {
   "cell_type": "markdown",
   "id": "d5ca8946-8ec4-487a-af85-ef33462f37c0",
   "metadata": {},
   "source": [
    "# 1. Aussagekräftige Felder\n",
    "\n",
    "Die wichtigsten Felder für mein Modell sind:\n",
    "- `median_income`: Höheres Einkommen führt oft zu höheren Hauspreisen.\n",
    "- `housing_median_age`: Ältere Gebäude können günstiger oder seltener renoviert sein.\n",
    "- `latitude` und `longitude`: Die Lage hat großen Einfluss auf die Immobilienpreise.\n",
    "\n",
    "Diese Felder zeigen klare Zusammenhänge mit dem Zielwert `median_house_value`."
   ]
  },
  {
   "cell_type": "markdown",
   "id": "1a980a4e-410f-48cd-8ae8-30339c4546d1",
   "metadata": {},
   "source": [
    "# 2 Passende Messmethode"
   ]
  },
  {
   "cell_type": "code",
   "execution_count": 1,
   "id": "5781838b-2bf8-4fc6-86a6-16f5e5d8637b",
   "metadata": {},
   "outputs": [],
   "source": [
    "import pandas as pd\n",
    "import numpy as np\n",
    "import matplotlib.pyplot as plt\n",
    "from sklearn.model_selection import train_test_split\n",
    "from sklearn.preprocessing import MinMaxScaler\n",
    "from sklearn.linear_model import LinearRegression\n",
    "from sklearn.metrics import mean_squared_error, r2_score"
   ]
  },
  {
   "cell_type": "code",
   "execution_count": 2,
   "id": "b925cdaa-90ba-4fab-8c7a-3d7d46567120",
   "metadata": {},
   "outputs": [
    {
     "name": "stdout",
     "output_type": "stream",
     "text": [
      "Mean Squared Error: 4921881237.628142\n",
      "R²-Score: 0.640086568899374\n"
     ]
    }
   ],
   "source": [
    "df = pd.read_csv(\"C:/BBB/2. Jahr/259/LB/archive/1553768847-housing.csv\")\n",
    "\n",
    "X = df.drop(\"median_house_value\", axis=1).select_dtypes(include=[np.number]).dropna()\n",
    "y = df.loc[X.index, \"median_house_value\"]\n",
    "\n",
    "scaler = MinMaxScaler()\n",
    "X_scaled = scaler.fit_transform(X)\n",
    "\n",
    "X_train, X_test, y_train, y_test = train_test_split(X_scaled, y, test_size=0.2, random_state=42)\n",
    "\n",
    "model = LinearRegression()\n",
    "model.fit(X_train, y_train)\n",
    "\n",
    "y_pred = model.predict(X_test)\n",
    "\n",
    "mse = mean_squared_error(y_test, y_pred)\n",
    "r2 = r2_score(y_test, y_pred)\n",
    "\n",
    "print(\"Mean Squared Error:\", mse)\n",
    "print(\"R²-Score:\", r2)"
   ]
  },
  {
   "cell_type": "markdown",
   "id": "b6bb7dfd-521b-4074-a409-c276dd5daf91",
   "metadata": {},
   "source": [
    "Ich verwende MSE und R², weil sie bei Regressionsmodellen oft benutzt werden.\n",
    "- Der MSE (Mean Squared Error) zeigt, wie stark die vorhergesagten Hauspreise im Durchschnitt vom tatsächlichen Preis abweichen – und zwar in Dollar².\n",
    "- Der R²-Wert (Bestimmtheitsmaß) zeigt, wie gut mein Modell erklären kann, warum Häuser unterschiedliche Preise haben."
   ]
  },
  {
   "cell_type": "markdown",
   "id": "5edc1bd5-ea52-4924-af0d-bacf170f7aad",
   "metadata": {},
   "source": [
    "# 3. Wahrheitsmatrix"
   ]
  },
  {
   "cell_type": "code",
   "execution_count": 3,
   "id": "f8f61e07-e7e2-4b61-a8d4-2043bc028dd8",
   "metadata": {},
   "outputs": [
    {
     "data": {
      "text/plain": [
       "<sklearn.metrics._plot.confusion_matrix.ConfusionMatrixDisplay at 0x21e637ded60>"
      ]
     },
     "execution_count": 3,
     "metadata": {},
     "output_type": "execute_result"
    },
    {
     "data": {
      "image/png": "[encoded data removed]",
      "text/plain": [
       "<Figure size 640x480 with 2 Axes>"
      ]
     },
     "metadata": {},
     "output_type": "display_data"
    }
   ],
   "source": [
    "from sklearn.metrics import confusion_matrix, ConfusionMatrixDisplay\n",
    "\n",
    "threshold = 250000\n",
    "y_true_class = (y_test >= threshold).astype(int)\n",
    "y_pred_class = (y_pred >= threshold).astype(int)\n",
    "\n",
    "cm = confusion_matrix(y_true_class, y_pred_class)\n",
    "disp = ConfusionMatrixDisplay(confusion_matrix=cm)\n",
    "disp.plot()"
   ]
  },
  {
   "cell_type": "markdown",
   "id": "c3bc60d8-7b33-4bda-9d81-0dff18bdd10f",
   "metadata": {},
   "source": [
    "Ich habe ein Regressionsmodell verwendet, das Hauspreise als Zahlen vorhersagt.  \n",
    "Um eine Confusion Matrix zu erstellen, habe ich die Vorhersagen zuerst in Klassen umgewandelt:  \n",
    "Preise ab 250'000 $ gelten als \"teuer\" (1), darunter als \"günstig\" (0).\n",
    "(Aus ChatGPT erklären lassen)"
   ]
  },
  {
   "cell_type": "markdown",
   "id": "d02c4fde-d54e-44ab-ac18-7fcfa53b8774",
   "metadata": {},
   "source": [
    "Die Wahrheitsmatrix zeigt, wie oft das Modell richtig oder falsch lag.  \n",
    "- 2627 günstige Häuser wurden korrekt erkannt (True Negatives).  \n",
    "- 880 teure Häuser wurden korrekt erkannt (True Positives).  \n",
    "- 286 günstige Häuser wurden fälschlich als teuer erkannt (False Positives).  \n",
    "- 294 teure Häuser wurden fälschlich als günstig erkannt (False Negatives).  \n",
    "\n",
    "Insgesamt erkennt das Modell günstige Häuser sehr gut, teure Häuser etwas weniger gut."
   ]
  },
  {
   "cell_type": "code",
   "execution_count": 4,
   "id": "a357d63d-bd23-4b16-a796-1c8ac810472b",
   "metadata": {},
   "outputs": [
    {
     "name": "stdout",
     "output_type": "stream",
     "text": [
      "Sensitivität (Recall): 0.7495741056218058\n",
      "Spezifität: 0.9018194301407484\n"
     ]
    }
   ],
   "source": [
    "tn, fp, fn, tp = cm.ravel()\n",
    "\n",
    "sensitivity = tp / (tp + fn)  # Trefferquote bei \"teuer\"\n",
    "specificity = tn / (tn + fp)  # Trefferquote bei \"günstig\"\n",
    "\n",
    "print(\"Sensitivität (Recall):\", sensitivity)\n",
    "print(\"Spezifität:\", specificity)"
   ]
  },
  {
   "cell_type": "markdown",
   "id": "839c4987-3025-4a55-b236-62d2f0f4eb9f",
   "metadata": {},
   "source": [
    "Die Sensitivität zeigt, wie gut das Modell teure Häuser erkennt.  \n",
    "Die Spezifität zeigt, wie gut günstige Häuser erkannt werden.  \n",
    "Beide Werte helfen, die Klassifikationsqualität besser einzuschätzen."
   ]
  },
  {
   "cell_type": "markdown",
   "id": "b9bf0f1f-1de0-4a43-aa61-6953c861d447",
   "metadata": {},
   "source": [
    "# 4. Bewertung des Modells\n",
    "\n",
    "Mein Modell funktioniert gut, aber nicht perfekt. Der R²-Wert zeigt, dass es ca. 64 % der Hauspreise gut vorhersagt.  \n",
    "Die Klassifikation über 250'000 USD funktioniert ebenfalls, aber könnte mit anderen Algorithmen besser sein.  \n",
    "Ich vermute, dass vor allem `median_income` stark hilft, weil Einkommen oft mit Immobilienwerten zusammenhängt."
   ]
  },
  {
   "cell_type": "code",
   "execution_count": null,
   "id": "847ddeb1-c272-4092-aaae-ad72d445d7a9",
   "metadata": {},
   "outputs": [],
   "source": []
  }
 ],
 "metadata": {
  "kernelspec": {
   "display_name": "Python 3 (ipykernel)",
   "language": "python",
   "name": "python3"
  },
  "language_info": {
   "codemirror_mode": {
    "name": "ipython",
    "version": 3
   },
   "file_extension": ".py",
   "mimetype": "text/x-python",
   "name": "python",
   "nbconvert_exporter": "python",
   "pygments_lexer": "ipython3",
   "version": "3.9.13"
  }
 },
 "nbformat": 4,
 "nbformat_minor": 5
}
